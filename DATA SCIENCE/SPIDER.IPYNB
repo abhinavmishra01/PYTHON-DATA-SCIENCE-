{
 "cells": [
  {
   "cell_type": "code",
   "execution_count": 9,
   "metadata": {},
   "outputs": [
    {
     "name": "stdout",
     "output_type": "stream",
     "text": [
      "Data loaded\n",
      "Your target area found\n"
     ]
    },
    {
     "ename": "NameError",
     "evalue": "name 'items' is not defined",
     "output_type": "error",
     "traceback": [
      "\u001b[1;31m---------------------------------------------------------------------------\u001b[0m",
      "\u001b[1;31mNameError\u001b[0m                                 Traceback (most recent call last)",
      "\u001b[1;32mc:\\Users\\Lenovo\\OneDrive\\Documents\\PYTHON DATA SCIENCE\\DATA SCIENCE\\SPIDER.IPYNB Cell 1\u001b[0m in \u001b[0;36m<cell line: 24>\u001b[1;34m()\u001b[0m\n\u001b[0;32m     <a href='vscode-notebook-cell:/c%3A/Users/Lenovo/OneDrive/Documents/PYTHON%20DATA%20SCIENCE/DATA%20SCIENCE/SPIDER.IPYNB#W5sZmlsZQ%3D%3D?line=19'>20</a>\u001b[0m     \u001b[39mprint\u001b[39m(\u001b[39m'\u001b[39m\u001b[39mVery bad coder u are\u001b[39m\u001b[39m'\u001b[39m)\n\u001b[0;32m     <a href='vscode-notebook-cell:/c%3A/Users/Lenovo/OneDrive/Documents/PYTHON%20DATA%20SCIENCE/DATA%20SCIENCE/SPIDER.IPYNB#W5sZmlsZQ%3D%3D?line=22'>23</a>\u001b[0m     items \u001b[39m=\u001b[39m target\u001b[39m.\u001b[39mfind_all(\u001b[39m'\u001b[39m\u001b[39mdiv\u001b[39m\u001b[39m'\u001b[39m, class_ \u001b[39m=\u001b[39m \u001b[39m'\u001b[39m\u001b[39m_2kHMtA\u001b[39m\u001b[39m'\u001b[39m)\n\u001b[1;32m---> <a href='vscode-notebook-cell:/c%3A/Users/Lenovo/OneDrive/Documents/PYTHON%20DATA%20SCIENCE/DATA%20SCIENCE/SPIDER.IPYNB#W5sZmlsZQ%3D%3D?line=23'>24</a>\u001b[0m \u001b[39mif\u001b[39;00m items \u001b[39mis\u001b[39;00m \u001b[39mnot\u001b[39;00m \u001b[39mNone\u001b[39;00m:\n\u001b[0;32m     <a href='vscode-notebook-cell:/c%3A/Users/Lenovo/OneDrive/Documents/PYTHON%20DATA%20SCIENCE/DATA%20SCIENCE/SPIDER.IPYNB#W5sZmlsZQ%3D%3D?line=24'>25</a>\u001b[0m     \u001b[39mprint\u001b[39m(\u001b[39mlen\u001b[39m(items), \u001b[39m'\u001b[39m\u001b[39mitems found in page\u001b[39m\u001b[39m'\u001b[39m)\n\u001b[0;32m     <a href='vscode-notebook-cell:/c%3A/Users/Lenovo/OneDrive/Documents/PYTHON%20DATA%20SCIENCE/DATA%20SCIENCE/SPIDER.IPYNB#W5sZmlsZQ%3D%3D?line=25'>26</a>\u001b[0m \u001b[39melse\u001b[39;00m:\n",
      "\u001b[1;31mNameError\u001b[0m: name 'items' is not defined"
     ]
    }
   ],
   "source": [
    "import requests\n",
    "from bs4 import BeautifulSoup\n",
    "\n",
    "def load_soup(url):\n",
    "    page= requests.get(url)\n",
    "    if page.status_code== 200:\n",
    "        return BeautifulSoup (page.text)\n",
    "\n",
    "url = 'https://www.flipkart.com/search?q=mobiles&otracker=search&otracker1=search&marketplace=FLIPKART&as-show=on&as=off'\n",
    "soup  =load_soup(url)\n",
    "if soup is not None:\n",
    "    print('Data loaded')\n",
    "else:\n",
    "    print('Data could not be loaded')\n",
    "\n",
    "target = soup.find('div', class_ ='_1YokD2 _3Mn1Gg')\n",
    "if target is not None:\n",
    "    print('Your target area found')\n",
    "else:\n",
    "    print('Very bad coder u are')\n",
    "    \n",
    "    \n",
    "    items = target.find_all('div', class_ = '_2kHMtA')\n",
    "if items is not None:\n",
    "    print(len(items), 'items found in page')\n",
    "else:\n",
    "    print('You should go and sleep')\n",
    "    \n",
    "    for product in items:\n",
    "        name = product.find('div', class_='_4rR01T')\n",
    "    dprice = product.find('div', class_='_30jeq3 _1_WHN1')\n",
    "    oprice = product.find('div', class_='_3I9_wc _27UcVY')\n",
    "    exc_price = product.find_all('div', class_='_3xFhiH')\n",
    "    rating = product.find('div', class_='_3LWZlK')\n",
    "    review_count = product.find('span', class_='_2_R_DZ')\n",
    "    print('name',name.text)\n",
    "    print('price',dprice.text)\n",
    "    try:\n",
    "        print('original price',oprice.text)\n",
    "    except:\n",
    "        print('original price not available')\n",
    "    try:\n",
    "        print('exchange upto', exc_price[-1].text)\n",
    "    except:\n",
    "        print('no exchange offer')\n",
    "    try:\n",
    "        print('rating',rating.text)\n",
    "    except:\n",
    "        print('rating None')\n",
    "    try:\n",
    "        print('review count',review_count.text)\n",
    "    except:\n",
    "        print('review count Not available')\n",
    "    \n",
    "    print()"
   ]
  }
 ],
 "metadata": {
  "kernelspec": {
   "display_name": "Python 3.9.12 ('base')",
   "language": "python",
   "name": "python3"
  },
  "language_info": {
   "codemirror_mode": {
    "name": "ipython",
    "version": 3
   },
   "file_extension": ".py",
   "mimetype": "text/x-python",
   "name": "python",
   "nbconvert_exporter": "python",
   "pygments_lexer": "ipython3",
   "version": "3.9.12"
  },
  "orig_nbformat": 4,
  "vscode": {
   "interpreter": {
    "hash": "d352f530d35ba9a8cbd74dc54ae14fe97a35856bed16a2f3b615ca61b68e7fcb"
   }
  }
 },
 "nbformat": 4,
 "nbformat_minor": 2
}
